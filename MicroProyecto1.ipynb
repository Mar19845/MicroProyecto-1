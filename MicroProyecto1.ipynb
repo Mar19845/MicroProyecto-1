{
 "cells": [
  {
   "cell_type": "markdown",
   "id": "ef976b49-e1eb-4fbd-a6be-57356df34c56",
   "metadata": {},
   "source": [
    "## Universidad del Valle de Guatemala\n",
    "## Modelado y Simulacion\n",
    "\n",
    "### MICRO PROYECTO 1\n",
    "\n",
    "\n",
    "#### Juan Marroquin 19845\n",
    "#### Carlos Raxtum 19721"
   ]
  },
  {
   "cell_type": "markdown",
   "id": "c357c460-7f6a-4180-9f1c-2e367766ee20",
   "metadata": {},
   "source": [
    "   "
   ]
  },
  {
   "cell_type": "markdown",
   "id": "517fc62a-7a76-466a-92f8-9440f2401617",
   "metadata": {},
   "source": [
    "### Ejercicio 1\n",
    "\n",
    "Suponga que usted está trabajando en la industria relacionada con meteorología, por lo cual le interesa saber la\n",
    "probabilidad de que haya N huracanes este año. Se sabe que la frecuencia histórica de huracanes es 7 por año, en\n",
    "otras palabras, el número promedio de huracanes por año es de 7.\n",
    "\n",
    "+ 1. ¿Es este un escenario que se pueda modelar como una variable aleatoria de Poisson? ¿Por qué?\n",
    "+ 2. Considere que usted analizará hasta un máximo de 16 huracanes este año. Grafique PMF (probability mass function) de estos eventos\n",
    "+ 3. Considere que usted analizará hasta un máximo de 16 huracanes este año. Grafique CDF (cumulative distribution function) de estos eventos\n",
    "+ 4. ¿Qué conclusiones puede sacar al observar las gráficas de los ejercicios anteriores?"
   ]
  },
  {
   "cell_type": "markdown",
   "id": "39601406-38e8-49c5-8cbd-012c38d2a087",
   "metadata": {},
   "source": [
    "### Ejercicio 2\n",
    "Suponga que la cantidad promedio de buses que llegan a una parada de bus dada es de 2 cada 30 minutos.\n",
    "Considere X como la cantidad de buses que llegan a la mencionada parada de bus.\n",
    "\n",
    "+ 1. ¿Puede ser este evento modelado por una distribución de Poisson? ¿Por qué?\n",
    "+ 2. Calcule y grafique la probabilidad para diferentes números de buses, yendo desde 0 hasta 100. ¿Cuál es la\n",
    "cantidad de buses más probable?\n"
   ]
  },
  {
   "cell_type": "markdown",
   "id": "6cb0213f-9272-4476-ae18-3277f65fadba",
   "metadata": {},
   "source": [
    "### Ejercicio 3\n",
    "Un aspecto importante de los procesos de Poisson es que los intervalos de tiempo entre eventos consecutivos\n",
    "puede ser modelado usando una distribución exponencial, a pesar de que esta última sea contínua. Considerando\n",
    "esto para generar tiempos intermedios en un proceso de Poisson, usamos la técnica de invertir la CDF, en la cual\n",
    "literalmente se construye la inversa de la CDF, y se le da como input diferentes valores de una distribución\n",
    "uniforme. Esto da como resultado los correspondientes tiempos intermedios con sus respectivas probabilidades.\n",
    "\n",
    "+ 1. Genere una tabla que muestre los tiempos intermedios en horas para los 10 primeros pacientes\n",
    "+ 2. Grafique usando el mismo lambda la CDF para la variable exponencial.\n",
    "+ 3. Haga una gráfica de los tiempos intermedios para los primeros 500 pacientes. ¿Qué forma tiene la gráfica?\n",
    "¿Cuál es la relación que se observa entre esta y la gráfica del punto anterior?"
   ]
  },
  {
   "cell_type": "markdown",
   "id": "33c57406-bebd-4468-a7e9-203d17e99145",
   "metadata": {},
   "source": [
    "### Ejercicio 4\n",
    "Con la información que hemos recabado del ejercicio anterior, es fácil generar las llegadas de los pacientes a la\n",
    "clínica veterinaria. Pues, si consideramos x1 = tiempo de llegada del primer paciente = tiempo intermedio para el\n",
    "primer paciente, y x2 = tiempo de llegada del segundo paciente = x1 + tiempo intermedio para el segundo paciente\n",
    "= x1 + x2, para x3 = tiempo de llegada del tercer paciente = x1 + x2 + tiempo intermedio para el tercer paciente = x1 + x2 + x3.\n",
    "\n",
    "Considerando que X1, X2, … Xk son los tiempos intermedios, si definimos T1, T2, … Tk como las variables que\n",
    "representarán las llegadas de los pacientes a la clínica veterinaria, vemos que\n",
    "T1 = X1\n",
    "T2 = X1 + X2\n",
    "Tk = X1 + X2 + … + Xk\n",
    "\n",
    "* 1. ¿Son las variables T1, T2 hasta Tk variables aleatorias? ¿Por qué?\n",
    "+ 2. Simule y grafique el proceso de Poisson completo usando el mismo gamma e información recabada del\n",
    "ejercicio 2. Haga una simulación para 100 pacientes.\n"
   ]
  },
  {
   "cell_type": "markdown",
   "id": "9fbf69bd-cf42-4fea-8ff8-8815152747de",
   "metadata": {},
   "source": [
    "### Ejercicio 5\n",
    "Considere un experimento en el cual se cuentan cuántos carros pasan por una calle determinada dentro de un\n",
    "rango de tiempo dado. Sabemos que el tiempo de espera para el n-ésimo evento puede ser modelando a través de\n",
    "una variable gamma. Considere el caso en el que usted está esperando que pase el 3er carro en la calle dada\n",
    "\n",
    "+ 1. Para diferentes lambdas en [2, 1, 0.5], grafique las distribuciones gamma para cada uno de los casos.\n",
    "+ 2. ¿Qué conclusiones puede obtener de las gráficas obtenidas en términos de los tiempos de espera y el\n",
    "número de ocurrencias del evento? ¿Qué relación existe entre el tiempo de espera y el número de\n",
    "ocurrencias de un evento?"
   ]
  },
  {
   "cell_type": "code",
   "execution_count": null,
   "id": "731a0fab-a2ab-44d4-8886-b1212dd8a2cb",
   "metadata": {},
   "outputs": [],
   "source": []
  }
 ],
 "metadata": {
  "kernelspec": {
   "display_name": "Python 3 (ipykernel)",
   "language": "python",
   "name": "python3"
  },
  "language_info": {
   "codemirror_mode": {
    "name": "ipython",
    "version": 3
   },
   "file_extension": ".py",
   "mimetype": "text/x-python",
   "name": "python",
   "nbconvert_exporter": "python",
   "pygments_lexer": "ipython3",
   "version": "3.9.13"
  }
 },
 "nbformat": 4,
 "nbformat_minor": 5
}
